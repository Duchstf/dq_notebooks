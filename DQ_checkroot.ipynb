{
 "cells": [
  {
   "cell_type": "code",
   "execution_count": 1,
   "id": "1cb77425",
   "metadata": {},
   "outputs": [
    {
     "name": "stdout",
     "output_type": "stream",
     "text": [
      "Saving plots to:  plot/23-03-2022\n"
     ]
    }
   ],
   "source": [
    "import uproot4\n",
    "import numpy as np\n",
    "import numba\n",
    "import awkward as ak\n",
    "from scipy.stats import norm\n",
    "from scipy.optimize import curve_fit\n",
    "from coffea import hist\n",
    "from coffea.processor import defaultdict_accumulator\n",
    "import os\n",
    "import copy\n",
    "\n",
    "import optparse\n",
    "import importlib\n",
    "import pathlib\n",
    "\n",
    "%matplotlib inline\n",
    "import matplotlib.pyplot as plt\n",
    "import matplotlib.colors as colors\n",
    "\n",
    "import mplhep as hep\n",
    "#plt.style.use(hep.style.CMS)\n",
    "plt.style.use(hep.style.DQ)\n",
    "\n",
    "import matplotlib\n",
    "plt.rcParams[\"text.usetex\"] = False\n",
    "# Overall - both left and right annotation\n",
    "#hep.cms.label(\"\", data=False, lumi=50, year=2017)\n",
    "# Just experiment label and <text> such as 'Preliminary' or 'Simulation'\n",
    "#hep.cms.text(\"Preliminary\")\n",
    "\n",
    "#Just to efficiently save plots\n",
    "plot_dir = \"plot/\"\n",
    "from datetime import datetime\n",
    "now = datetime.now()\n",
    "dt_string = now.strftime(\"%d-%m-%Y\")\n",
    "save_path = plot_dir + dt_string\n",
    "\n",
    "print(\"Saving plots to: \", save_path)\n",
    "\n",
    "#Plot settings\n",
    "# import matplotlib.pylab as pylab\n",
    "# params = {'legend.fontsize': 'small',\n",
    "#          'axes.labelsize': 'large',\n",
    "#          'axes.titlesize':'x-large',\n",
    "#          'xtick.labelsize':'medium',\n",
    "#          'ytick.labelsize':'medium'}\n",
    "# pylab.rcParams.update(params)\n",
    "\n",
    "#line thickness\n",
    "import matplotlib as mpl\n",
    "mpl.rcParams['lines.linewidth'] = 5\n",
    "\n",
    "## Data processing codes\n",
    "def getData(fname=\"\", treeName=\"Truth\"):\n",
    "    dq_dict_ak1 = uproot4.lazy(fname+\":\"+treeName)\n",
    "    dq_events = ak.zip({\n",
    "                        \"nTrack\": ak.zip({\n",
    "                                \"n_tracks\": dq_dict_ak1['n_tracks']\n",
    "                        }),\n",
    "                        \"event_weight\": ak.zip({\n",
    "                                'weight': dq_dict_ak1['weight']\n",
    "                        }),\n",
    "                        \"GenVertex\": ak.zip({\n",
    "                                            \"x\": dq_dict_ak1[\"gvx\"],\n",
    "                                            \"y\": dq_dict_ak1[\"gvy\"],\n",
    "                                            \"z\": dq_dict_ak1[\"gvz\"],\n",
    "                                            \"px\": dq_dict_ak1[\"gpx\"],\n",
    "                                            \"py\": dq_dict_ak1[\"gpy\"],\n",
    "                                            \"pz\": dq_dict_ak1[\"gpz\"]\n",
    "\n",
    "                        }),\n",
    "                        \"GenP_St1\": ak.zip({\n",
    "                                            \"px\": dq_dict_ak1[\"gpx_st1\"],\n",
    "                                            \"py\": dq_dict_ak1[\"gpy_st1\"],\n",
    "                                            \"pz\": dq_dict_ak1[\"gpz_st1\"],\n",
    "                                            \"x\": dq_dict_ak1[\"gx_st1\"],\n",
    "                                            \"y\": dq_dict_ak1[\"gy_st1\"],\n",
    "                                            \"z\": dq_dict_ak1[\"gz_st1\"],\n",
    "                        }),\n",
    "                        \"Track_St1\": ak.zip({\n",
    "                                            \"px\": dq_dict_ak1[\"track_px_st1\"],\n",
    "                                            \"py\": dq_dict_ak1[\"track_py_st1\"],\n",
    "                                            \"pz\": dq_dict_ak1[\"track_pz_st1\"],\n",
    "                                            \"x\": dq_dict_ak1[\"track_x_st1\"],\n",
    "                                            \"y\": dq_dict_ak1[\"track_y_st1\"],\n",
    "                                            \"z\": dq_dict_ak1[\"track_z_st1\"],\n",
    "                        }),\n",
    "                        \"reco_dimuon\": ak.zip({\n",
    "                                            \"mass\": dq_dict_ak1[\"dimuon_mass\"],\n",
    "                                            \"x\": dq_dict_ak1[\"dimuon_x_vtx\"],\n",
    "                                            \"y\": dq_dict_ak1[\"dimuon_y_vtx\"],\n",
    "                                            \"z\": dq_dict_ak1[\"dimuon_z_vtx\"],\n",
    "                                            \"chisq\": dq_dict_ak1[\"dimuon_chisq\"],\n",
    "                            \n",
    "                        }),\n",
    "                        \"truth_dimuon\":ak.zip({\n",
    "                                            \"mass\": dq_dict_ak1['truthdimuon_mass'],\n",
    "                                            \"x\": dq_dict_ak1['truthdimuon_x_vtx'],\n",
    "                                            \"y\": dq_dict_ak1['truthdimuon_y_vtx'],\n",
    "                                            \"z\": dq_dict_ak1['truthdimuon_z_vtx'],\n",
    "                                            \"px\": dq_dict_ak1['truthdimuon_px'],\n",
    "                                            \"py\": dq_dict_ak1['truthdimuon_py'],\n",
    "                                            \"pz\": dq_dict_ak1['truthdimuon_pz'],\n",
    "                            \n",
    "                        })\n",
    "                       }, depth_limit=1)\n",
    "    return dq_events\n",
    "\n",
    "\n",
    "######## READ EVENTS\n",
    "sample_dir = \"/mnt/T2_US_MIT/hadoop/mitgroups/DarkQuest/dhoang/Aprime_Electrons_Scan_22_03_2022\"\n",
    "filename = \"/mnt/T2_US_MIT/hadoop/mitgroups/DarkQuest/dhoang/Aprime_Electrons_Scan_22_03_2022/Brem_0.011603_z500_600_eps_-4.4.root\"\n",
    "dq_events = getData(filename, treeName = 'Events')"
   ]
  },
  {
   "cell_type": "code",
   "execution_count": 2,
   "id": "16ab3ebc",
   "metadata": {},
   "outputs": [],
   "source": [
    "a = uproot4.open(filename)"
   ]
  },
  {
   "cell_type": "code",
   "execution_count": 6,
   "id": "0a0479af",
   "metadata": {},
   "outputs": [
    {
     "data": {
      "text/plain": [
       "[]"
      ]
     },
     "execution_count": 6,
     "metadata": {},
     "output_type": "execute_result"
    }
   ],
   "source": [
    "a['Events/truthtrack_pz_st1']"
   ]
  },
  {
   "cell_type": "code",
   "execution_count": 11,
   "id": "4d54c5da",
   "metadata": {},
   "outputs": [
    {
     "data": {
      "text/plain": [
       "<Array [[32.3, 14.7], ... [43.5, 11.7]] type='1000 * var * float32'>"
      ]
     },
     "execution_count": 11,
     "metadata": {},
     "output_type": "execute_result"
    }
   ],
   "source": [
    "a['Events/truthtrack_pz_st1'].array()"
   ]
  },
  {
   "cell_type": "code",
   "execution_count": 12,
   "id": "fa2bbaea",
   "metadata": {},
   "outputs": [
    {
     "data": {
      "text/plain": [
       "(array([1.04e+03, 5.77e+02, 1.97e+02, 8.10e+01, 4.50e+01, 2.20e+01,\n",
       "        1.90e+01, 1.40e+01, 4.00e+00, 1.00e+00]),\n",
       " array([  0.      ,  10.346865,  20.69373 ,  31.040596,  41.38746 ,\n",
       "         51.734325,  62.081192,  72.428055,  82.77492 ,  93.12179 ,\n",
       "        103.46865 ], dtype=float32),\n",
       " <BarContainer object of 10 artists>)"
      ]
     },
     "execution_count": 12,
     "metadata": {},
     "output_type": "execute_result"
    },
    {
     "data": {
      "image/png": "[encoded data removed]",
      "text/plain": [
       "<Figure size 720x720 with 1 Axes>"
      ]
     },
     "metadata": {
      "needs_background": "light"
     },
     "output_type": "display_data"
    }
   ],
   "source": [
    "plt.hist(ak.flatten(a['Events/truthtrack_pz_st1'].array()))"
   ]
  },
  {
   "cell_type": "code",
   "execution_count": null,
   "id": "1749d6e6",
   "metadata": {},
   "outputs": [],
   "source": []
  }
 ],
 "metadata": {
  "kernelspec": {
   "display_name": "Python 3 (ipykernel)",
   "language": "python",
   "name": "python3"
  },
  "language_info": {
   "codemirror_mode": {
    "name": "ipython",
    "version": 3
   },
   "file_extension": ".py",
   "mimetype": "text/x-python",
   "name": "python",
   "nbconvert_exporter": "python",
   "pygments_lexer": "ipython3",
   "version": "3.8.3"
  }
 },
 "nbformat": 4,
 "nbformat_minor": 5
}
